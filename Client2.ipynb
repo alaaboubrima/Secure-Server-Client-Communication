{
 "cells": [
  {
   "cell_type": "code",
   "execution_count": 1,
   "id": "bc7c556a",
   "metadata": {},
   "outputs": [],
   "source": [
    "#import le module rsa\n",
    "import rsa\n",
    "\n",
    "def generateKeys():\n",
    "    (publicKey, privateKey) = rsa.newkeys(1024)\n",
    "    with open(\"publicKey3.pem\", 'wb') as p:\n",
    "        p.write(publicKey.save_pkcs1(\"PEM\"))\n",
    "    with open(\"privateKey3.pem\", 'wb') as p:\n",
    "        p.write(privateKey.save_pkcs1(\"PEM\"))\n",
    "\n"
   ]
  },
  {
   "cell_type": "code",
   "execution_count": 2,
   "id": "f97035ae",
   "metadata": {},
   "outputs": [],
   "source": [
    "# reload keys\n",
    "def loadKeys():\n",
    "    with open(\"publicKey3.pem\", 'rb') as p:\n",
    "        publicKey = rsa.PublicKey.load_pkcs1(p.read())\n",
    "    with open(\"privateKey3.pem\", 'rb') as p:\n",
    "        privateKey = rsa.PrivateKey.load_pkcs1(p.read())\n",
    "    return publicKey, privateKey"
   ]
  },
  {
   "cell_type": "code",
   "execution_count": null,
   "id": "e9b84914",
   "metadata": {},
   "outputs": [],
   "source": []
  },
  {
   "cell_type": "code",
   "execution_count": 3,
   "id": "5beaab97",
   "metadata": {},
   "outputs": [],
   "source": [
    "#encrypt\n",
    "def encrypt(message, key):\n",
    "    return rsa.encrypt(message.encode('utf-8'), key)\n",
    "\n",
    "#decryption\n",
    "def decrypt(cyphertext, key):\n",
    "    try:\n",
    "        return rsa.decrypt(cyphertext, key).decode('utf-8')\n",
    "    except:\n",
    "        return False"
   ]
  },
  {
   "cell_type": "code",
   "execution_count": 4,
   "id": "6c1893cc",
   "metadata": {},
   "outputs": [],
   "source": [
    "#main programme\n",
    "generateKeys()\n",
    "\n",
    "publicKey3, privateKey3 = loadKeys()"
   ]
  },
  {
   "cell_type": "markdown",
   "id": "f656b6b0",
   "metadata": {},
   "source": [
    "print(publicKey, '\\n\\n')\n",
    "print(privateKey)"
   ]
  },
  {
   "cell_type": "markdown",
   "id": "c3ad7ef2",
   "metadata": {},
   "source": [
    "#message = input(\"input your message:\")\n",
    "message = \"message\"\n",
    "cypherText = encrypt(message, publicKey)"
   ]
  },
  {
   "cell_type": "markdown",
   "id": "5c6b5139",
   "metadata": {},
   "source": [
    "text = decrypt(cypherText, privateKey)\n",
    "\n",
    "if text:\n",
    "    print(f\"message text : {text}\")\n",
    "else:\n",
    "    print(f\"unable to decrypt the message\")"
   ]
  },
  {
   "cell_type": "markdown",
   "id": "f1e38be3",
   "metadata": {},
   "source": [
    "message.encode('ascii')"
   ]
  },
  {
   "cell_type": "markdown",
   "id": "076a5376",
   "metadata": {},
   "source": [
    "#signature\n",
    "def sign(message, key):\n",
    "    return rsa.sign(message.encode('ascii'), key, 'SHA-1')\n",
    "\n",
    "#verifier\n",
    "def verify(message, signature, key):\n",
    "    try:\n",
    "        return rsa.verify(message.encode('ascii'), signature)\n",
    "    except:\n",
    "        return False"
   ]
  },
  {
   "cell_type": "markdown",
   "id": "07a0156a",
   "metadata": {},
   "source": [
    "signature = sign(message, privateKey)\n",
    "print(f'signature : {signature}')"
   ]
  },
  {
   "cell_type": "markdown",
   "id": "e84189b3",
   "metadata": {},
   "source": [
    "if verify (text, signature, publicKey):\n",
    "    print(\"succefully verified signature\")\n",
    "else:\n",
    "    print(\"the message signature could not be verified\")\n"
   ]
  },
  {
   "cell_type": "code",
   "execution_count": 5,
   "id": "33ed2076",
   "metadata": {},
   "outputs": [],
   "source": [
    "message = \"Hello my dear\"\n",
    "with open(\"publicKey1.pem\", 'rb') as p:\n",
    "        publicKey = rsa.PublicKey.load_pkcs1(p.read())\n",
    "cypherText = encrypt(message, publicKey)"
   ]
  },
  {
   "cell_type": "code",
   "execution_count": 6,
   "id": "46d3afa8",
   "metadata": {},
   "outputs": [
    {
     "name": "stdout",
     "output_type": "stream",
     "text": [
      "\n",
      "\n",
      "Received from the server : You are Client 2,192.168.2.2, I received your message!\n",
      "\n",
      "\n",
      "Acknowledgment has been sent to server\n"
     ]
    }
   ],
   "source": [
    "#echo-client.py\n",
    "\n",
    "import socket\n",
    "\n",
    "HOST = \"127.0.0.1\"\n",
    "PORT = 65432\n",
    "\n",
    "# Informations du client\n",
    "client_name = \"Client 2\"\n",
    "client_address = \"192.168.2.2\"  # Remplacez par l'adresse IP du client\n",
    "\n",
    "# Étape une: Échange de messages cryptés avec le serveur\n",
    "with socket.socket(socket.AF_INET, socket.SOCK_STREAM) as s:\n",
    "    s.connect((HOST, PORT))\n",
    "    message = f'{client_name},{client_address}'\n",
    "    with open(\"publicKey1.pem\", 'rb') as p:\n",
    "        publicKey = rsa.PublicKey.load_pkcs1(p.read())\n",
    "    encrypted_message = encrypt(message, publicKey)\n",
    "    s.sendall(encrypted_message)\n",
    "\n",
    "    # Attente de la réponse du serveur\n",
    "    data = s.recv(1024)\n",
    "    with open(\"privateKey3.pem\", 'rb') as p:\n",
    "        privateKey = rsa.PrivateKey.load_pkcs1(p.read())\n",
    "    decrypted_data = decrypt(data, privateKey)\n",
    "    print(f'\\n\\nReceived from the server : {decrypted_data}\\n\\n')\n",
    "    \n",
    "    # Étape deux : Stockage du message reçu dans un fichier\n",
    "    with open(\"message_recu_client2.txt\", 'w') as fichier_message:\n",
    "        fichier_message.write(decrypted_data)\n",
    "        \n",
    "    # Étape deux: Répondre au serveur avec un accusé de réception\n",
    "    acknowledgment = f'This is sent from {client_name},{client_address} - Acknowledgment received!'\n",
    "    encrypted_acknowledgment = encrypt(acknowledgment, publicKey)\n",
    "    s.sendall(encrypted_acknowledgment)\n",
    "    print(\"Acknowledgment has been sent to server\")"
   ]
  },
  {
   "cell_type": "code",
   "execution_count": null,
   "id": "e043640a",
   "metadata": {},
   "outputs": [],
   "source": []
  },
  {
   "cell_type": "code",
   "execution_count": null,
   "id": "ed625e14",
   "metadata": {},
   "outputs": [],
   "source": []
  }
 ],
 "metadata": {
  "kernelspec": {
   "display_name": "Python 3 (ipykernel)",
   "language": "python",
   "name": "python3"
  },
  "language_info": {
   "codemirror_mode": {
    "name": "ipython",
    "version": 3
   },
   "file_extension": ".py",
   "mimetype": "text/x-python",
   "name": "python",
   "nbconvert_exporter": "python",
   "pygments_lexer": "ipython3",
   "version": "3.11.5"
  }
 },
 "nbformat": 4,
 "nbformat_minor": 5
}
