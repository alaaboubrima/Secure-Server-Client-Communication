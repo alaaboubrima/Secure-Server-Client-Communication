{
 "cells": [
  {
   "cell_type": "code",
   "execution_count": 1,
   "id": "f5815411",
   "metadata": {},
   "outputs": [],
   "source": [
    "#import le module rsa\n",
    "import rsa\n",
    "\n",
    "def generateKeys():\n",
    "    (publicKey, privateKey) = rsa.newkeys(1024)\n",
    "    with open(\"publicKey1.pem\", 'wb') as p:\n",
    "        p.write(publicKey.save_pkcs1(\"PEM\"))\n",
    "    with open(\"privateKey1.pem\", 'wb') as p:\n",
    "        p.write(privateKey.save_pkcs1(\"PEM\"))\n"
   ]
  },
  {
   "cell_type": "code",
   "execution_count": 2,
   "id": "f456f8fc",
   "metadata": {},
   "outputs": [],
   "source": [
    "# reload keys\n",
    "def loadKeys():\n",
    "    with open(\"publicKey1.pem\", 'rb') as p:\n",
    "        publicKey = rsa.PublicKey.load_pkcs1(p.read())\n",
    "    with open(\"privateKey1.pem\", 'rb') as p:\n",
    "        privateKey = rsa.PrivateKey.load_pkcs1(p.read())\n",
    "    return publicKey, privateKey"
   ]
  },
  {
   "cell_type": "code",
   "execution_count": 3,
   "id": "471f7ae3",
   "metadata": {},
   "outputs": [],
   "source": [
    "#decrypt\n",
    "def encrypt(message, key):\n",
    "    return rsa.encrypt(message.encode('ascii'), key)\n",
    "\n",
    "#epcryption\n",
    "def decrypt(cyphertext, key):\n",
    "    try:\n",
    "        return rsa.decrypt(cyphertext, key).decode(\"ascii\")\n",
    "    except:\n",
    "        return False"
   ]
  },
  {
   "cell_type": "code",
   "execution_count": 4,
   "id": "da36b5d0",
   "metadata": {},
   "outputs": [],
   "source": [
    "#main programme\n",
    "generateKeys()\n",
    "\n",
    "publicKey1, privateKey1 = loadKeys()"
   ]
  },
  {
   "cell_type": "code",
   "execution_count": 5,
   "id": "6cbd0f70",
   "metadata": {},
   "outputs": [
    {
     "name": "stdout",
     "output_type": "stream",
     "text": [
      "PublicKey(96185371164923691440231772115434227591769531388228239706061727048559491547761419020730382427085090577041206700715175453540901977105418385999554141517392024948439904799124006884298290874242943378875347298239688409176914821404385170265363715741440970008344333509097120955196779742322231203492155264227756403313, 65537) \n",
      "\n",
      "\n",
      "PrivateKey(96185371164923691440231772115434227591769531388228239706061727048559491547761419020730382427085090577041206700715175453540901977105418385999554141517392024948439904799124006884298290874242943378875347298239688409176914821404385170265363715741440970008344333509097120955196779742322231203492155264227756403313, 65537, 38095788323052996913409159845588388934488330656640377466930806246844663657250761455683026941420078674767819740459035495179229940640025406188724323543560270969818972873913837460683333754526393316825215287880536107498762094910702634377845985918048178727666340340127711626960849189296205537147734732815833044993, 33104466437301599896298294776232696127706662892500734220807932335604546138571237241652702982517186014085662566872132201421717377183717152659095033858729779385845233, 2905510389273137639367819052349621877951499836725070489182549055196522935485294606162025206172442467612906728438598698661668574986013796860357761)\n"
     ]
    }
   ],
   "source": [
    "print(publicKey1, '\\n\\n')\n",
    "print(privateKey1)"
   ]
  },
  {
   "cell_type": "code",
   "execution_count": 6,
   "id": "54b5efbe",
   "metadata": {},
   "outputs": [],
   "source": [
    "#message = input(\"input your message:\")\n",
    "message = 'test'\n",
    "cypherText = encrypt(message, publicKey1)"
   ]
  },
  {
   "cell_type": "code",
   "execution_count": 7,
   "id": "1ce7ccc1",
   "metadata": {},
   "outputs": [
    {
     "name": "stdout",
     "output_type": "stream",
     "text": [
      "message text : test\n"
     ]
    }
   ],
   "source": [
    "text = decrypt(cypherText, privateKey1)\n",
    "\n",
    "if text:\n",
    "    print(f\"message text : {text}\")\n",
    "else:\n",
    "    print(f\"unable to decrypt the message\")"
   ]
  },
  {
   "cell_type": "code",
   "execution_count": 8,
   "id": "f62bbde7",
   "metadata": {},
   "outputs": [],
   "source": [
    "#signature\n",
    "def sign(message, key):\n",
    "    return rsa.sign(message.encode('ascii'), key, 'SHA-1')\n",
    "\n",
    "#verifier\n",
    "def verify(message, signature, key):\n",
    "    try:\n",
    "        return rsa.verify(message.encode('ascii'), signature)\n",
    "    except:\n",
    "        return False"
   ]
  },
  {
   "cell_type": "code",
   "execution_count": 9,
   "id": "a592fc1d",
   "metadata": {},
   "outputs": [
    {
     "name": "stdout",
     "output_type": "stream",
     "text": [
      "signature : b'K\\xc7s\\xb6\\xfb\\xf7=\\xf1\\xd0y\\xc6\\x81\\x17\\x95F\\x95\\xb8\\xa5\\xe2\\x0c\\xad\\xa3\\xc1f\\x846)\\x1a\\x9d|+ \\x16eK6*\\xf1%\\n\\xb2]A\\xd34$\\xc5hNt\\xf1\\xaa\\xce\\x02\\x8f\\x9b\\xeb\\x95\\x94-0\\xea\\x91D\\x98\\xf7[\\x91\\x15.+\\xc2\\xba\\xca\\xb5Y\\x87\\\\\\x95^\\xe35S6\\xce\\xbc\\xb6\\x93\\xae\\x8d\\xd0\\xfc\\x0f.\\xcbZq0vW\\x1e\\x05\\xb2\\xd0?:\\x9fgT\\xf4\\xd7*\\xd0\\xa5\\x83\\x06\\xc6\\xab.\\xc94\\x15Y\\x82\\x96~\\x94\\xe1'\n"
     ]
    }
   ],
   "source": [
    "signature = sign(message, privateKey1)\n",
    "print(f'signature : {signature}')"
   ]
  },
  {
   "cell_type": "code",
   "execution_count": 10,
   "id": "f0036db2",
   "metadata": {},
   "outputs": [
    {
     "name": "stdout",
     "output_type": "stream",
     "text": [
      "the message signature could not be verified\n"
     ]
    }
   ],
   "source": [
    "if verify (text, signature, publicKey1):\n",
    "    print(\"succefully verified signature\")\n",
    "else:\n",
    "    print(\"the message signature could not be verified\")\n"
   ]
  },
  {
   "cell_type": "code",
   "execution_count": null,
   "id": "8760d2c8",
   "metadata": {},
   "outputs": [],
   "source": []
  },
  {
   "cell_type": "code",
   "execution_count": null,
   "id": "46d3afa8",
   "metadata": {},
   "outputs": [
    {
     "name": "stdout",
     "output_type": "stream",
     "text": [
      "____________________________________________________________________________\n",
      "Choose the client you are receiving a message from (either 1 or 2.. more clients to be added later).\n",
      "NOTE : You can type exit if you want to shut down the server.\n",
      "1\n",
      "\n",
      "\n",
      "Received : Client 1,192.168.1.1\n",
      "\n",
      "\n",
      "Sent : b'\\x0e\\xde{\\\\\\xea\\x8c\\x19Qa\\xbd\\xfaG\\x86J)h\\xf6T\\x8b`\\x98\\x10Y\\x7fM?\\xc5\\xf3\\xbc+\\xe3\\xf1\\xb2@\\x88kk\\xe8g\\xf2\"\\x05\\x82\\x8c!\\xa3B\\xd4\\x8c\\xce\\xf3V(a\\xe6\\xbc\\xfb\\x83Uv{\\xe4\\x9f\\x87\\xc8 OI\\x95\\xfc%b\\x08)R\\'\\xc5\\xa0M3]M\\xe1*\\x0c\\x92\\xe5\\x92Y\\xcd\\xb8W}7\\xed\\xce\\x9b(\\xb1\\xe2oX\\x1aH;vPo\\xf3\\xa6\\xb1\\xee\\xf0\\xd8\\xb7\\t\\xae\\xfa\\xad4\\xc7\\xb6@B\\x06\\xf8l['\n",
      "\n",
      "\n",
      "Received acknowledgment : This is sent from Client 1,192.168.1.1 - Acknowledgment received!\n",
      "\n",
      "\n",
      "____________________________________________________________________________\n",
      "____________________________________________________________________________\n",
      "Choose the client you are receiving a message from (either 1 or 2.. more clients to be added later).\n",
      "NOTE : You can type exit if you want to shut down the server.\n",
      "2\n",
      "\n",
      "\n",
      "Received : Client 2,192.168.2.2\n",
      "\n",
      "\n",
      "Sent : b'q7\\x08\\x8c\\x81e\"5\\x89Kg\\xe4\\xe2\\xc7\\x0c\\xb6\\x8fY#\\xefq\\xd6\\xf6\\xf0q{m\\x82\\x07\\xba:-\\x84\\xe8\\xc8\\xd9\\xfc\\x12A\\xc0\\xbc;li\\xb7\\xfc\\xba\\x18\\xf8t\\xc0Zt\\x05\\xe5p:\\xcb\\xc9\\xd3\\xfd:\\xa0_\\x04\\'g\\xf9h\\x97\\x82pG\\xe6`<\\xd8\\xe6\\x08jg\\x07\\x93o\\xdb\\x82a\\xe0I\\xad\\xe3\\xdb\\xe8fB\\xec\\xb0M\\xfa\\x16\\xc8K\\x9f\\x0c\\x03b,\\xf7\\xca|V\\xc8_\\x18\\xd6\\xf3j(*\\x8a\\xb0\\'\\xac~C\\xf2\\x8d\\x01'\n",
      "\n",
      "\n",
      "Received acknowledgment : This is sent from Client 2,192.168.2.2 - Acknowledgment received!\n",
      "\n",
      "\n",
      "____________________________________________________________________________\n",
      "____________________________________________________________________________\n",
      "Choose the client you are receiving a message from (either 1 or 2.. more clients to be added later).\n",
      "NOTE : You can type exit if you want to shut down the server.\n",
      "2\n",
      "\n",
      "\n",
      "Received : Client 2,192.168.2.2\n",
      "\n",
      "\n",
      "Sent : b\"\\x84(\\xdb\\xba\\xf7\\x17\\xb0\\xc4\\xe0\\x88\\xb0\\xdd9WIa\\x8cz\\xd4\\xd62pM\\xc4\\x989t*\\x15\\xa0d\\xce\\x07\\\\\\xa3\\xafok\\xef\\xaf\\x06n\\x8e\\xa1\\x8am6\\xa1Z\\xee+\\x9asS\\x9b\\xd6\\x06'\\xbe\\x1f=\\xf0/\\x8a\\xc4\\x82\\tt\\x1f\\xd4?\\xc8ma\\x82\\xe8C\\nxi=\\xa0\\xd5[y\\xd1 \\xd0\\xf2\\x988\\xb7\\xab\\xd2\\x1cH\\xb2\\x13L`7\\x18\\xd7c\\xa6b\\xa3\\xfc\\xfe\\x0f-\\xb9\\x0fi\\xae#svP\\xd5\\x8a\\x99\\x9a\\xbf\\xd1s.\\xc1\"\n",
      "\n",
      "\n",
      "Received acknowledgment : This is sent from Client 2,192.168.2.2 - Acknowledgment received!\n",
      "\n",
      "\n",
      "____________________________________________________________________________\n",
      "____________________________________________________________________________\n",
      "Choose the client you are receiving a message from (either 1 or 2.. more clients to be added later).\n",
      "NOTE : You can type exit if you want to shut down the server.\n",
      "1\n"
     ]
    }
   ],
   "source": [
    "#echo-server.py\n",
    "import json\n",
    "import socket\n",
    "import time\n",
    "\n",
    "HOST = \"127.0.0.1\"\n",
    "PORT = 65432\n",
    "\n",
    "# Dictionnaire pour stocker les informations des clients\n",
    "clients_info = {}\n",
    "\n",
    "\n",
    "with socket.socket(socket.AF_INET, socket.SOCK_STREAM) as s:\n",
    "    s.bind((HOST, PORT))\n",
    "    s.listen()\n",
    "\n",
    "    while True:\n",
    "        # Si \"exit\" est reçu, le serveur sort de la boucle\n",
    "        print(\"____________________________________________________________________________\")\n",
    "        print(\"Choose the client you are receiving a message from (either 1 or 2.. more clients to be added later).\\nNOTE : You can type exit if you want to shut down the server.\")\n",
    "        x = input()\n",
    "        if x == \"exit\":\n",
    "            break\n",
    "        elif (x != '1') and (x != '2'):\n",
    "            print(\"\\nI gave you only 3 options, why would you type something else?\\n\\n\")\n",
    "            time.sleep(1)\n",
    "\n",
    "        else:\n",
    "\n",
    "            conn, addr = s.accept()\n",
    "            with conn:\n",
    "                #print(f'Connected by {addr}')\n",
    "                with open(\"privateKey1.pem\", 'rb') as p:\n",
    "                    privateKey = rsa.PrivateKey.load_pkcs1(p.read())\n",
    "                # Étape une: Échange de messages cryptés\n",
    "                data = conn.recv(1024)\n",
    "\n",
    "                data = decrypt(data, privateKey)\n",
    "                print(f\"\\n\\nReceived : {data}\\n\\n\")\n",
    "\n",
    "                # Étape deux: Enregistrement des informations du client\n",
    "                clients_info[addr] = data\n",
    "                with open(\"clients_info.txt\", 'a') as info_file:\n",
    "                    info_file.write(f\"Client: {data}, Address: {addr}\\n\")\n",
    "                    client_id = data\n",
    "\n",
    "                # Envoi des informations du client au client\n",
    "                message = f'You are {client_id}, I received your message!'\n",
    "                if x == '1':\n",
    "                     with open(\"publicKey2.pem\", 'rb') as p:\n",
    "                            publicKey = rsa.PublicKey.load_pkcs1(p.read())\n",
    "                elif x == '2':\n",
    "                     with open(\"publicKey3.pem\", 'rb') as p:\n",
    "                            publicKey = rsa.PublicKey.load_pkcs1(p.read())\n",
    "               \n",
    "                response = encrypt(message, publicKey)\n",
    "                print(f\"Sent : {response}\")\n",
    "                conn.sendall(response)\n",
    "\n",
    "                # Attente de la réponse de l'accusé de réception\n",
    "                response = conn.recv(1024)\n",
    "                decrypted_response = decrypt(response, privateKey)\n",
    "                print(f\"\\n\\nReceived acknowledgment : {decrypted_response}\\n\\n\")\n",
    "                print(\"____________________________________________________________________________\")\n",
    "\n"
   ]
  },
  {
   "cell_type": "code",
   "execution_count": null,
   "id": "e043640a",
   "metadata": {},
   "outputs": [],
   "source": []
  },
  {
   "cell_type": "code",
   "execution_count": null,
   "id": "ed625e14",
   "metadata": {},
   "outputs": [],
   "source": []
  }
 ],
 "metadata": {
  "kernelspec": {
   "display_name": "Python 3 (ipykernel)",
   "language": "python",
   "name": "python3"
  },
  "language_info": {
   "codemirror_mode": {
    "name": "ipython",
    "version": 3
   },
   "file_extension": ".py",
   "mimetype": "text/x-python",
   "name": "python",
   "nbconvert_exporter": "python",
   "pygments_lexer": "ipython3",
   "version": "3.11.5"
  }
 },
 "nbformat": 4,
 "nbformat_minor": 5
}
